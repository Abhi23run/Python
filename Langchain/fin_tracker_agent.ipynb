{
  "nbformat": 4,
  "nbformat_minor": 0,
  "metadata": {
    "colab": {
      "provenance": [],
      "authorship_tag": "ABX9TyPzqUkQ6++yUHO84c3d01HF",
      "include_colab_link": true
    },
    "kernelspec": {
      "name": "python3",
      "display_name": "Python 3"
    },
    "language_info": {
      "name": "python"
    }
  },
  "cells": [
    {
      "cell_type": "markdown",
      "metadata": {
        "id": "view-in-github",
        "colab_type": "text"
      },
      "source": [
        "<a href=\"https://colab.research.google.com/github/Abhi23run/Python/blob/main/Langchain/fin_tracker_agent.ipynb\" target=\"_parent\"><img src=\"https://colab.research.google.com/assets/colab-badge.svg\" alt=\"Open In Colab\"/></a>"
      ]
    },
    {
      "cell_type": "code",
      "source": [
        "!pip install --quiet langchain langchain-community openai yfinance"
      ],
      "metadata": {
        "id": "nF2ttNU2JlGl"
      },
      "execution_count": null,
      "outputs": []
    },
    {
      "cell_type": "code",
      "source": [
        "import os\n",
        "from langchain.agents import load_tools\n",
        "from langchain.agents import initialize_agent\n",
        "from langchain.agents import AgentType\n",
        "from langchain.llms import OpenAI\n",
        "import yfinance as yf\n",
        "import ast"
      ],
      "metadata": {
        "id": "IrNbaABYJX5U"
      },
      "execution_count": 14,
      "outputs": []
    },
    {
      "cell_type": "code",
      "source": [
        "from langchain_community.document_loaders.web_base import WebBaseLoader"
      ],
      "metadata": {
        "id": "eAzHXdXvScf2"
      },
      "execution_count": 4,
      "outputs": []
    },
    {
      "cell_type": "code",
      "source": [
        "import getpass\n",
        "openai_api_key = getpass.getpass(\"Enter your API key: \")"
      ],
      "metadata": {
        "colab": {
          "base_uri": "https://localhost:8080/"
        },
        "id": "-updxSoQJYWz",
        "outputId": "26a93f4c-bfa4-47de-911c-c352e1b56bcf"
      },
      "execution_count": 23,
      "outputs": [
        {
          "name": "stdout",
          "output_type": "stream",
          "text": [
            "Enter your API key: ··········\n"
          ]
        }
      ]
    },
    {
      "cell_type": "code",
      "source": [
        "import os\n",
        "os.environ[\"OPENAI_API_KEY\"] = openai_api_key"
      ],
      "metadata": {
        "id": "hGUVEdWZKFyG"
      },
      "execution_count": 24,
      "outputs": []
    },
    {
      "cell_type": "code",
      "source": [
        "llm = OpenAI(temperature=0)"
      ],
      "metadata": {
        "id": "36O7xQKbKhtJ"
      },
      "execution_count": 25,
      "outputs": []
    },
    {
      "cell_type": "code",
      "source": [
        "query='CAVA'\n",
        "company = yf.Ticker(query)\n",
        "links = [n[\"link\"] for n in company.news if n[\"type\"] == \"STORY\"]"
      ],
      "metadata": {
        "id": "XupR1sauNRTl"
      },
      "execution_count": 8,
      "outputs": []
    },
    {
      "cell_type": "code",
      "source": [
        "links"
      ],
      "metadata": {
        "colab": {
          "base_uri": "https://localhost:8080/"
        },
        "id": "BIWH0DRHNpbb",
        "outputId": "57636d52-97fc-4aad-aed9-452c72d9333e"
      },
      "execution_count": 9,
      "outputs": [
        {
          "output_type": "execute_result",
          "data": {
            "text/plain": [
              "['https://finance.yahoo.com/news/retail-wholesale-stocks-lagging-cava-134009511.html',\n",
              " 'https://finance.yahoo.com/news/cava-debuts-mediterranean-inspired-grilled-130000797.html',\n",
              " 'https://finance.yahoo.com/m/bd3af63a-d389-3a77-9f6a-54a395ce34d1/2-must-know-facts-before-you.html',\n",
              " 'https://finance.yahoo.com/m/fc50d14f-61ca-34bf-9d85-fc33881f45c5/is-it-too-late-to-buy-cava.html',\n",
              " 'https://finance.yahoo.com/m/325b7fe7-fbf3-321d-a283-f8927560d018/move-over%2C-chipotle-cava.html',\n",
              " 'https://finance.yahoo.com/m/284a38ee-b54e-3344-8f72-2ae761deb501/4-reasons-to-buy-cava-stock.html',\n",
              " 'https://finance.yahoo.com/news/earnings-estimates-rising-cava-cava-162002639.html',\n",
              " 'https://finance.yahoo.com/m/b81da50f-ae30-3397-b6ea-b819e77a53bf/stock-market-retreats-as.html']"
            ]
          },
          "metadata": {},
          "execution_count": 9
        }
      ]
    },
    {
      "cell_type": "code",
      "source": [
        "loader = WebBaseLoader(web_paths=links)"
      ],
      "metadata": {
        "id": "kUnK--G2SU-g"
      },
      "execution_count": 10,
      "outputs": []
    },
    {
      "cell_type": "code",
      "source": [
        "docs = loader.load()"
      ],
      "metadata": {
        "id": "fRjX9OvOSdwn"
      },
      "execution_count": 11,
      "outputs": []
    },
    {
      "cell_type": "code",
      "source": [
        "docs[0].metadata"
      ],
      "metadata": {
        "colab": {
          "base_uri": "https://localhost:8080/"
        },
        "id": "KCoOhGkobbrr",
        "outputId": "3912d930-44a6-4260-facb-c35ef6c0fdf2"
      },
      "execution_count": 13,
      "outputs": [
        {
          "output_type": "execute_result",
          "data": {
            "text/plain": [
              "{'source': 'https://finance.yahoo.com/news/retail-wholesale-stocks-lagging-cava-134009511.html',\n",
              " 'title': 'Are Retail-Wholesale Stocks Lagging CAVA Group, Inc. (CAVA) This Year?',\n",
              " 'description': 'Here is how Cava Group (CAVA) and Gap (GPS) have performed compared to their sector so far this year.',\n",
              " 'language': 'en-US'}"
            ]
          },
          "metadata": {},
          "execution_count": 13
        }
      ]
    },
    {
      "cell_type": "code",
      "source": [
        "stock_news_list=[]\n",
        "for index,doc in enumerate(docs):\n",
        "  news_article=doc.page_content\n",
        "  base_prompt = f'''Act as a finance expert and help in making an informed investment decision.\n",
        "Analyze the following news article about {query} within the triple backticks:\n",
        "```\n",
        "{news_article}\n",
        "```\n",
        "Return only a parseable dict with the following keys : pros, cons of buying the stock of {query}.\n",
        "The pros and cons both should be a bulleted list of values.'''\n",
        "  try:\n",
        "    output = llm(base_prompt)\n",
        "    stock_news_list.append({doc.metadata['source']:output})\n",
        "    print(f'''Article {doc.metadata['title']} done''')\n",
        "  except:\n",
        "    pass"
      ],
      "metadata": {
        "colab": {
          "base_uri": "https://localhost:8080/"
        },
        "id": "akiAqhvdbGNa",
        "outputId": "132efc22-f5d4-4d61-d4b3-613655ba5e9f"
      },
      "execution_count": 60,
      "outputs": [
        {
          "output_type": "stream",
          "name": "stdout",
          "text": [
            "Article Are Retail-Wholesale Stocks Lagging CAVA Group, Inc. (CAVA) This Year? done\n",
            "Article CAVA Debuts Mediterranean-Inspired Grilled Steak done\n",
            "Article 2 Must-Know Facts Before You Buy Cava Stock Hand Over Fist done\n",
            "Article Is It Too Late to Buy Cava Group Stock? done\n",
            "Article Move Over, Chipotle -- Cava Sees Revenue Surge. Time to Buy the Stock? done\n",
            "Article 4 Reasons to Buy Cava Stock Like There's No Tomorrow done\n",
            "Article Earnings Estimates Rising for Cava (CAVA): Will It Gain? done\n",
            "Article Stock Market Retreats As Salesforce, Dell Lead Earnings Losers: Weekly Review done\n"
          ]
        }
      ]
    },
    {
      "cell_type": "code",
      "source": [
        "stock_news_list"
      ],
      "metadata": {
        "colab": {
          "base_uri": "https://localhost:8080/"
        },
        "id": "0MIrOMgle9NU",
        "outputId": "bad46524-91ac-4df8-d20d-e107a9e7c56e"
      },
      "execution_count": 61,
      "outputs": [
        {
          "output_type": "execute_result",
          "data": {
            "text/plain": [
              "[{'https://finance.yahoo.com/news/retail-wholesale-stocks-lagging-cava-134009511.html': \"\\n\\nPros:\\n- CAVA has outperformed its peers in the Retail-Wholesale sector, with a return of 115.3% since the start of the year.\\n- The company has a Zacks Rank of #2 (Buy), indicating a positive earnings outlook trend.\\n- Analyst sentiment for CAVA has improved, with a 47.2% increase in the Zacks Consensus Estimate for full-year earnings over the past 90 days.\\n\\nCons:\\n- The Retail-Wholesale sector as a whole has only gained 9.3% on average, indicating potential volatility in the market.\\n- CAVA belongs to the Retail - Restaurants industry, which has lost an average of 2.2% so far this year.\\n- The company's performance may be affected by external factors such as consumer spending and economic conditions.\"},\n",
              " {'https://finance.yahoo.com/news/cava-debuts-mediterranean-inspired-grilled-130000797.html': '\\n\\n{\\n  \"pros\": [\\n    \"CAVA is a category-defining Mediterranean fast-casual restaurant brand with a unique and differentiated menu offering.\",\\n    \"The company\\'s Grilled Steak, a new menu item, has received positive feedback and is expected to drive more frequent visits from customers.\",\\n    \"CAVA\\'s broad appeal and favorable industry trends provide a vast opportunity for continued growth.\",\\n    \"The company\\'s focus on health and wellness aligns with current consumer demand and demographic shifts.\",\\n    \"CAVA\\'s strong social media presence and engagement with customers can help drive brand awareness and loyalty.\"\\n  ],\\n  \"cons\": [\\n    \"The restaurant industry is highly competitive and CAVA may face challenges in standing out and gaining market share.\",\\n    \"The company\\'s success is heavily dependent on consumer preferences and trends, which can change quickly.\",\\n    \"CAVA\\'s expansion plans may require significant investments and could lead to increased expenses and debt.\",\\n    \"The COVID-19 pandemic has had a negative impact on the restaurant industry and could continue to affect CAVA\\'s operations and financial performance.\",\\n    \"CAVA\\'s stock is relatively new and may be more volatile compared to established companies in the market.\"\\n  ]\\n}'},\n",
              " {'https://finance.yahoo.com/m/bd3af63a-d389-3a77-9f6a-54a395ce34d1/2-must-know-facts-before-you.html': '\\n\\n{\\n    \"pros\": [\\n        \"Cava has potential for growth with plans to open 1,000 stores by 2032\",\\n        \"Recent financial results show beating Wall Street revenue and earnings estimates\",\\n        \"Revenue increased by 30% in Q1 of fiscal 2024\",\\n        \"Cava\\'s stock has more than tripled since October 2023\"\\n    ],\\n    \"cons\": [\\n        \"Same-store sales growth of 2.3% in Q1 was lower than expected\",\\n        \"Competition in the restaurant sector may hinder long-term success\",\\n        \"Valuation is currently high with a P/S ratio of 12.8\",\\n        \"Mature restaurant chain Chipotle has a lower P/S ratio and higher same-store sales growth\"\\n    ]\\n}'},\n",
              " {'https://finance.yahoo.com/m/fc50d14f-61ca-34bf-9d85-fc33881f45c5/is-it-too-late-to-buy-cava.html': '\\n\\n{\\n    \"pros\": [\\n        \"Cava Group\\'s stock price has more than doubled since the beginning of the year\",\\n        \"The fast-casual Mediterranean restaurant chain is expanding rapidly\",\\n        \"Building a customer base eager for new healthy fast-food choices\",\\n        \"Cava specializes in Mediterranean cuisine, which does not compete with Chipotle\\'s Mexican food\",\\n        \"Cava has stated a long-term goal of having 1,000 restaurants by 2032\",\\n        \"Limited operating expense growth and improved financials\",\\n        \"Rapid revenue growth and potential for future profits\"\\n    ],\\n    \"cons\": [\\n        \"Cava could face limitations compared to larger competitors like Chipotle\",\\n        \"Interest in Mediterranean food lags behind Mexican food\",\\n        \"Cava\\'s P/S ratio is higher than Chipotle\\'s, indicating a potentially overvalued stock\",\\n        \"Uncertainty in the near-term stock performance\",\\n        \"Potential for investors to have missed out on the recent surge in stock price\"\\n    ]\\n}'},\n",
              " {'https://finance.yahoo.com/m/325b7fe7-fbf3-321d-a283-f8927560d018/move-over%2C-chipotle-cava.html': '\\n\\n{\\n    \"pros\": [\\n        \"Strong revenue growth in the first quarter\",\\n        \"Solid start to the year with increased guidance for same restaurant sales growth and adjusted EBITDA\",\\n        \"Potential for continued expansion and growth in the future\",\\n        \"Successful entry into new markets, such as the Midwest\",\\n        \"Potential for long-term growth and success similar to Chipotle\"\\n    ],\\n    \"cons\": [\\n        \"Expensive valuation compared to other fast-casual concepts\",\\n        \"Potential traffic headwind as excitement from IPO fades\",\\n        \"Uncertainty in projecting long-term success and growth\",\\n        \"Possible impact on restaurant level margins from new menu offerings\"\\n    ]\\n}'},\n",
              " {'https://finance.yahoo.com/m/284a38ee-b54e-3344-8f72-2ae761deb501/4-reasons-to-buy-cava-stock.html': '\\n\\n{\\n    \"pros\": [\\n        \"Growing demand for Mediterranean food\",\\n        \"Company is expanding and expected to continue growing\",\\n        \"Management focuses on cost-efficiency\",\\n        \"Already profitable with potential for increasing profit margins\"\\n    ],\\n    \"cons\": [\\n        \"High risk due to volatility in the restaurant industry\",\\n        \"Expensive stock price\",\\n        \"Not recommended for those seeking a stable portfolio\"\\n    ]\\n}'},\n",
              " {'https://finance.yahoo.com/news/earnings-estimates-rising-cava-cava-162002639.html': '\\n\\n{\\n    \"pros\": [\\n        \"Strong earnings outlook\",\\n        \"Positive trend in earnings estimate revisions\",\\n        \"Favorable Zacks Rank\",\\n        \"Impressive track record of outperformance\"\\n    ],\\n    \"cons\": [\\n        \"Stock has already seen a significant increase in price\",\\n        \"Earnings for current quarter expected to decrease\",\\n        \"Limited information on company\\'s financials and operations\"\\n    ]\\n}'},\n",
              " {'https://finance.yahoo.com/m/b81da50f-ae30-3397-b6ea-b819e77a53bf/stock-market-retreats-as.html': '\\n\\n{\\n    \"pros\": [\\n        \"Strong earnings growth potential\",\\n        \"Expansion plans and partnerships with popular brands\",\\n        \"Positive market sentiment and analyst recommendations\",\\n        \"Strong financials and balance sheet\",\\n        \"Growing demand for healthy and convenient food options\"\\n    ],\\n    \"cons\": [\\n        \"High competition in the fast-casual restaurant industry\",\\n        \"Potential impact of economic downturn on consumer spending\",\\n        \"Reliance on a single product (Mediterranean cuisine)\",\\n        \"Limited international presence\",\\n        \"Potential supply chain and labor cost challenges\"\\n    ]\\n}'}]"
            ]
          },
          "metadata": {},
          "execution_count": 61
        }
      ]
    },
    {
      "cell_type": "code",
      "source": [
        "news_article=docs[0].page_content\n",
        "base_prompt = f'''Act as a finance expert and help in making an informed investment decision.\n",
        "Analyze the following news article about {query} within the triple backticks:\n",
        "```\n",
        "{news_article}\n",
        "```\n",
        "Return only a parseable dict with the following keys : pros, cons of buying the stock of {query}.\n",
        "The pros and cons both should be a bulleted list of values.'''"
      ],
      "metadata": {
        "id": "OfENB4bUbGQg"
      },
      "execution_count": 55,
      "outputs": []
    },
    {
      "cell_type": "code",
      "source": [
        "output = llm(base_prompt)"
      ],
      "metadata": {
        "id": "bq3AAsNTdRmV"
      },
      "execution_count": 56,
      "outputs": []
    },
    {
      "cell_type": "code",
      "source": [
        "print(output.strip())"
      ],
      "metadata": {
        "colab": {
          "base_uri": "https://localhost:8080/"
        },
        "id": "B2oY04MldRpU",
        "outputId": "6f6c0a73-a883-46bd-d64f-7fdda9b6bd75"
      },
      "execution_count": 57,
      "outputs": [
        {
          "output_type": "stream",
          "name": "stdout",
          "text": [
            "Pros:\n",
            "- CAVA has outperformed its peers in the Retail-Wholesale sector, with a return of 115.3% since the start of the year.\n",
            "- The company has a Zacks Rank of #2 (Buy), indicating a positive earnings outlook trend.\n",
            "- Analyst sentiment for CAVA has improved, with a 47.2% increase in the Zacks Consensus Estimate for full-year earnings over the past 90 days.\n",
            "\n",
            "Cons:\n",
            "- The Retail-Wholesale sector as a whole has only gained 9.3% on average, indicating potential volatility in the market.\n",
            "- CAVA belongs to the Retail - Restaurants industry, which has lost an average of 2.2% so far this year.\n",
            "- The company's performance may be impacted by external factors such as consumer spending and economic conditions.\n"
          ]
        }
      ]
    },
    {
      "cell_type": "code",
      "source": [],
      "metadata": {
        "id": "QA4JVAVAdRrf"
      },
      "execution_count": null,
      "outputs": []
    },
    {
      "cell_type": "code",
      "source": [
        "news_content=''''''\n",
        "for index,news in enumerate(docs):\n",
        "  news_content+=f'''Article {index+1}:\n",
        "  Article Details: {news.page_content}'''"
      ],
      "metadata": {
        "id": "LnYufnDwT481"
      },
      "execution_count": null,
      "outputs": []
    },
    {
      "cell_type": "code",
      "source": [
        "fin_prompt=f'''Act as a finance expert. Analyze the various news articles present below within the triple backticks and act as an investment advisor.\n",
        "Return a structured json file with pros, cons and summary of important details related to investing in the stcok mentioned in the news.\n",
        "Make sure to highlight the pros and cons as a bulleted list whereas keep the summary concise.\n",
        "```{news_content}```\n",
        "'''"
      ],
      "metadata": {
        "id": "IDHjNFvxT5Bw"
      },
      "execution_count": null,
      "outputs": []
    },
    {
      "cell_type": "code",
      "source": [],
      "metadata": {
        "id": "g1N4kODrSoLT",
        "colab": {
          "base_uri": "https://localhost:8080/"
        },
        "outputId": "1ce71f68-3cf1-4440-8831-88f913ab1925"
      },
      "execution_count": null,
      "outputs": [
        {
          "output_type": "stream",
          "name": "stdout",
          "text": [
            "\n",
            "- Cava (NYSE: CAVA) stock has tripled since October 2023\n",
            "- Latest financial results show Cava beat Wall Street revenue and earnings estimates for Q1 of fiscal 2024\n",
            "- Management plans to have 1,000 stores open by 2032, up from current 323\n",
            "- Revenue increased 30% in Q1 on a year-over-year basis\n",
            "- Same-store sales growth was 2.3% in Q1, higher than Wall Street forecast but still disappointing\n",
            "- Full year expectation for same-store sales growth is 5.5%\n",
            "- Chipotle, with more locations and founded 13 years earlier, had same-store sales growth of 7% in Q1\n",
            "- Cava's stock dropped 32% from IPO to all-time low in October\n",
            "- Current P/S ratio is 12.8, much more expensive than 8 months ago\n",
            "- Chipotle's P/S ratio is 8.4, representing a 35% discount to Cava's\n",
            "- Muted same-store sales growth and high valuation make it risky to invest in Cava stock currently\n",
            "- The Motley Fool Stock Advisor team identified 10 best stocks to buy now, Cava Group was not one of them\n",
            "\n"
          ]
        }
      ]
    },
    {
      "cell_type": "code",
      "source": [],
      "metadata": {
        "id": "x3Et4jl_TgzW"
      },
      "execution_count": null,
      "outputs": []
    }
  ]
}